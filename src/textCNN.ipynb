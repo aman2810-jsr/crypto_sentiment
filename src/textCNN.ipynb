{
 "cells": [
  {
   "cell_type": "markdown",
   "id": "f5561b62",
   "metadata": {},
   "source": [
    "## Preprocessing"
   ]
  },
  {
   "cell_type": "code",
   "execution_count": 1,
   "id": "fa6ff12a",
   "metadata": {},
   "outputs": [
    {
     "name": "stderr",
     "output_type": "stream",
     "text": [
      "[nltk_data] Downloading package punkt to\n",
      "[nltk_data]     C:\\Users\\aj281\\AppData\\Roaming\\nltk_data...\n",
      "[nltk_data]   Unzipping tokenizers\\punkt.zip.\n",
      "[nltk_data] Downloading package wordnet to\n",
      "[nltk_data]     C:\\Users\\aj281\\AppData\\Roaming\\nltk_data...\n",
      "[nltk_data]   Package wordnet is already up-to-date!\n",
      "100%|██████████| 71/71 [00:39<00:00,  1.80it/s]\n"
     ]
    },
    {
     "data": {
      "text/html": [
       "<div>\n",
       "<style scoped>\n",
       "    .dataframe tbody tr th:only-of-type {\n",
       "        vertical-align: middle;\n",
       "    }\n",
       "\n",
       "    .dataframe tbody tr th {\n",
       "        vertical-align: top;\n",
       "    }\n",
       "\n",
       "    .dataframe thead th {\n",
       "        text-align: right;\n",
       "    }\n",
       "</style>\n",
       "<table border=\"1\" class=\"dataframe\">\n",
       "  <thead>\n",
       "    <tr style=\"text-align: right;\">\n",
       "      <th></th>\n",
       "      <th>date</th>\n",
       "      <th>text</th>\n",
       "      <th>is_retweet</th>\n",
       "      <th>lang</th>\n",
       "      <th>sentiment</th>\n",
       "      <th>preprocess_text</th>\n",
       "    </tr>\n",
       "  </thead>\n",
       "  <tbody>\n",
       "    <tr>\n",
       "      <th>0</th>\n",
       "      <td>2021-04-12 18:56:10</td>\n",
       "      <td>The Why Behind Microsoft’s $19 Billion Nuance ...</td>\n",
       "      <td>False</td>\n",
       "      <td>en</td>\n",
       "      <td>neutral</td>\n",
       "      <td>The Why Behind Microsoft s Billion Nuance Buy ...</td>\n",
       "    </tr>\n",
       "    <tr>\n",
       "      <th>1</th>\n",
       "      <td>2021-04-12 18:55:48</td>\n",
       "      <td>Make a change and an impart on yourself and ot...</td>\n",
       "      <td>False</td>\n",
       "      <td>en</td>\n",
       "      <td>neutral</td>\n",
       "      <td>Make a change and an impart on yourself and ot...</td>\n",
       "    </tr>\n",
       "    <tr>\n",
       "      <th>2</th>\n",
       "      <td>2021-04-12 18:55:27</td>\n",
       "      <td>What are the biggest shitcoins? crypto btc bnb...</td>\n",
       "      <td>False</td>\n",
       "      <td>en</td>\n",
       "      <td>neutral</td>\n",
       "      <td>What are the biggest shitcoins crypto btc bnb ...</td>\n",
       "    </tr>\n",
       "    <tr>\n",
       "      <th>3</th>\n",
       "      <td>2021-04-12 18:55:22</td>\n",
       "      <td>crypto bitcoin cryptocurrency blockchain btc e...</td>\n",
       "      <td>False</td>\n",
       "      <td>en</td>\n",
       "      <td>neutral</td>\n",
       "      <td>crypto bitcoin cryptocurrency blockchain btc e...</td>\n",
       "    </tr>\n",
       "    <tr>\n",
       "      <th>4</th>\n",
       "      <td>2021-04-12 18:55:01</td>\n",
       "      <td>[1D] Bitcoin market is weakly trending up curr...</td>\n",
       "      <td>False</td>\n",
       "      <td>en</td>\n",
       "      <td>negative</td>\n",
       "      <td>Bitcoin market is weakly trending up current m...</td>\n",
       "    </tr>\n",
       "  </tbody>\n",
       "</table>\n",
       "</div>"
      ],
      "text/plain": [
       "                  date                                               text  \\\n",
       "0  2021-04-12 18:56:10  The Why Behind Microsoft’s $19 Billion Nuance ...   \n",
       "1  2021-04-12 18:55:48  Make a change and an impart on yourself and ot...   \n",
       "2  2021-04-12 18:55:27  What are the biggest shitcoins? crypto btc bnb...   \n",
       "3  2021-04-12 18:55:22  crypto bitcoin cryptocurrency blockchain btc e...   \n",
       "4  2021-04-12 18:55:01  [1D] Bitcoin market is weakly trending up curr...   \n",
       "\n",
       "   is_retweet lang sentiment  \\\n",
       "0       False   en   neutral   \n",
       "1       False   en   neutral   \n",
       "2       False   en   neutral   \n",
       "3       False   en   neutral   \n",
       "4       False   en  negative   \n",
       "\n",
       "                                     preprocess_text  \n",
       "0  The Why Behind Microsoft s Billion Nuance Buy ...  \n",
       "1  Make a change and an impart on yourself and ot...  \n",
       "2  What are the biggest shitcoins crypto btc bnb ...  \n",
       "3  crypto bitcoin cryptocurrency blockchain btc e...  \n",
       "4  Bitcoin market is weakly trending up current m...  "
      ]
     },
     "execution_count": 1,
     "metadata": {},
     "output_type": "execute_result"
    }
   ],
   "source": [
    "# Step 1: Import the function from your .py file\n",
    "from preprocess_text import run_preprocessing\n",
    "\n",
    "# Step 2: Call the function — it will return the processed DataFrame\n",
    "df = run_preprocessing()\n",
    "\n",
    "# Step 3: Now you can use df for any further steps\n",
    "df.head()\n"
   ]
  },
  {
   "cell_type": "code",
   "execution_count": 2,
   "id": "86caf3a5",
   "metadata": {},
   "outputs": [],
   "source": [
    "tokenized_tweets = df[\"preprocess_text\"].apply(str.split).tolist()\n"
   ]
  },
  {
   "cell_type": "code",
   "execution_count": 3,
   "id": "bba65e14",
   "metadata": {},
   "outputs": [],
   "source": [
    "X=tokenized_tweets\n",
    "y=df['sentiment']\n",
    "\n",
    "n=len(X)\n",
    "\n",
    "split_index=int(n*0.8)\n",
    "# Split the data into training and testing sets\n",
    "X_train= X[:split_index]\n",
    "X_test= X[split_index:]\n",
    "y_train= y[:split_index]\n",
    "y_test= y[split_index:]\n",
    "\n",
    "#sklearn train_test_split is not used because it splits randomly and we want to keep the order of the data for the time series modeling"
   ]
  },
  {
   "cell_type": "code",
   "execution_count": 4,
   "id": "cd4ad543",
   "metadata": {},
   "outputs": [],
   "source": [
    "from gensim.models import Word2Vec\n",
    "\n",
    "model = Word2Vec(\n",
    "    sentences=X_train,   # list of tokenized tweets\n",
    "    vector_size=100,       # size of word vectors (embedding dimensions)\n",
    "    window=5,              # context window size (words before/after target word)\n",
    "    min_count=5,           # ignore words with frequency < 5\n",
    "    workers=4,             # number of CPU threads to use\n",
    "    sg=1,                  # use Skip-Gram (1) instead of CBOW (0)\n",
    "    epochs=20              # number of training iterations (more = better, but slower)\n",
    ")"
   ]
  },
  {
   "cell_type": "code",
   "execution_count": 5,
   "id": "445e0e69",
   "metadata": {},
   "outputs": [
    {
     "name": "stdout",
     "output_type": "stream",
     "text": [
      "90th Percentile of Tweet Lengths: 56.800000000000004\n"
     ]
    }
   ],
   "source": [
    "import numpy as np\n",
    "length_counts={}\n",
    "\n",
    "for i in X_train:\n",
    "    length=len(i)\n",
    "    if length not in length_counts:\n",
    "        length_counts[length]=1\n",
    "    else:\n",
    "        length_counts[length]+=1\n",
    "\n",
    "# Print the length counts   \n",
    "\n",
    "percentile_90=np.percentile(list(length_counts.keys()), 90)\n",
    "print(f\"90th Percentile of Tweet Lengths: {percentile_90}\")"
   ]
  },
  {
   "cell_type": "code",
   "execution_count": 6,
   "id": "3fb8ae4e",
   "metadata": {},
   "outputs": [
    {
     "data": {
      "image/png": "[encoded data removed]",
      "text/plain": [
       "<Figure size 1000x600 with 1 Axes>"
      ]
     },
     "metadata": {},
     "output_type": "display_data"
    }
   ],
   "source": [
    "import matplotlib.pyplot as plt\n",
    "# Plotting the distribution of tweet lengths\n",
    "plt.figure(figsize=(10, 6))\n",
    "plt.bar(length_counts.keys(), length_counts.values(), color='blue', alpha=0.7)  \n",
    "plt.xlabel('Tweet Length (Number of Words)')\n",
    "plt.ylabel('Number of Tweets')\n",
    "plt.title('Distribution of Tweet Lengths in Training Set')\n",
    "plt.show()\n"
   ]
  },
  {
   "cell_type": "code",
   "execution_count": 22,
   "id": "362392a9",
   "metadata": {},
   "outputs": [],
   "source": [
    "model.save(\"bitcoin_word2vec.model\")"
   ]
  },
  {
   "cell_type": "code",
   "execution_count": 32,
   "id": "8a411885",
   "metadata": {},
   "outputs": [],
   "source": [
    "import torch \n",
    "from torch.utils.data import Dataset, DataLoader\n",
    "\n",
    "class PaddedTextDataset(Dataset):\n",
    "    def __init__(self,text,label,model,max_length):\n",
    "        self.text = text\n",
    "        self.model = model\n",
    "        self.max_length = max_length\n",
    "        self.label = label\n",
    "        self.vector_size = model.vector_size #embedding size\n",
    "    \n",
    "    def __len__(self):\n",
    "        return len(self.text)\n",
    "    \n",
    "    def __getitem__(self, idx):\n",
    "        sentence= self.text[idx]\n",
    "        encoded=[]\n",
    "\n",
    "        for word in sentence:\n",
    "            if word in self.model.wv:\n",
    "                encoded.append(self.model.wv[word])\n",
    "            else:\n",
    "              encoded.append(np.zeros(self.vector_size))\n",
    "\n",
    "        if len(encoded) < self.max_length:\n",
    "            encoded += [np.zeros(self.vector_size)] * (self.max_length - len(encoded))\n",
    "        \n",
    "        encoded = encoded[:self.max_length]\n",
    "        encoded_np = np.array(encoded, dtype=np.float32)  # Efficient conversion\n",
    "        encoded_tensor = torch.from_numpy(encoded_np)     # From NumPy to Tensor\n",
    "\n",
    "        label_tensor = torch.tensor(self.label[idx], dtype=torch.long)\n",
    "        return encoded_tensor, label_tensor\n",
    "\n",
    "\n"
   ]
  },
  {
   "cell_type": "code",
   "execution_count": 33,
   "id": "4da9dbf6",
   "metadata": {},
   "outputs": [],
   "source": [
    "train_dataset = PaddedTextDataset(X_train,y_train,model,max_length=56)\n",
    "test_dataset = PaddedTextDataset(X_test,y_test,model,max_length=56)\n",
    "\n",
    "train_dataloader = DataLoader(train_dataset, batch_size=32, shuffle=False)\n",
    "test_dataloader = DataLoader(test_dataset, batch_size=32, shuffle=False)"
   ]
  }
 ],
 "metadata": {
  "kernelspec": {
   "display_name": "venv",
   "language": "python",
   "name": "python3"
  },
  "language_info": {
   "codemirror_mode": {
    "name": "ipython",
    "version": 3
   },
   "file_extension": ".py",
   "mimetype": "text/x-python",
   "name": "python",
   "nbconvert_exporter": "python",
   "pygments_lexer": "ipython3",
   "version": "3.11.0"
  }
 },
 "nbformat": 4,
 "nbformat_minor": 5
}
