{
 "cells": [
  {
   "cell_type": "code",
   "execution_count": 21,
   "id": "431e3a77",
   "metadata": {},
   "outputs": [
    {
     "name": "stdout",
     "output_type": "stream",
     "text": [
      "(50000, 6)\n"
     ]
    }
   ],
   "source": [
    "import pandas as pd\n",
    "\n",
    "df=pd.read_csv(\"../data/sentiment_data/tweets_with_sentiment_1.csv\")\n",
    "print(df.shape)\n"
   ]
  },
  {
   "cell_type": "markdown",
   "id": "61328336",
   "metadata": {},
   "source": [
    "## Preprocessing "
   ]
  },
  {
   "cell_type": "code",
   "execution_count": 22,
   "id": "fb8b17d4",
   "metadata": {},
   "outputs": [
    {
     "name": "stdout",
     "output_type": "stream",
     "text": [
      "Columns in the dataset\n",
      "Index(['date', 'text', 'hashtags', 'is_retweet', 'lang', 'sentiment'], dtype='object')\n",
      "Columns after dropping some columns\n",
      "Index(['text', 'sentiment'], dtype='object')\n",
      "New shape of the dataset  (50000, 2)\n"
     ]
    }
   ],
   "source": [
    "print(\"Columns in the dataset\")\n",
    "print(df.columns)\n",
    "columns_to_drop = ['hashtags', 'is_retweet', 'lang','date'] \n",
    "#remove the columns which are not needed for the analysis\n",
    "\n",
    "df = df.drop(columns=columns_to_drop)\n",
    "print(\"Columns after dropping some columns\")\n",
    "print(df.columns)\n",
    "print(\"New shape of the dataset \",df.shape)\n"
   ]
  },
  {
   "cell_type": "code",
   "execution_count": 23,
   "id": "bb5aa9b1",
   "metadata": {},
   "outputs": [
    {
     "name": "stdout",
     "output_type": "stream",
     "text": [
      "text         1\n",
      "sentiment    0\n",
      "dtype: int64\n"
     ]
    }
   ],
   "source": [
    "print(df.isnull().sum())\n",
    "df = df[df['text'].notna()]  # Remove rows with NaN in 'text'\n"
   ]
  },
  {
   "cell_type": "code",
   "execution_count": 24,
   "id": "8ba26f53",
   "metadata": {},
   "outputs": [],
   "source": [
    "import emoji\n",
    "import spacy\n",
    "import re\n",
    "\n",
    "# Load spaCy English model for lemmatization\n",
    "nlp = spacy.load(\"en_core_web_sm\")\n",
    "\n",
    "def preprocess_text(text):\n",
    "    # 1. Convert emojis to text like \":smile:\"\n",
    "    text = emoji.demojize(text, delimiters=(\" \", \" \"))  # spaces instead of colons for cleaner tokenization\n",
    "    \n",
    "    # 2. Lowercase the text\n",
    "    text = text.lower()\n",
    "    \n",
    "    \n",
    "    # 3. Use spaCy to tokenize and lemmatize\n",
    "    doc = nlp(text)\n",
    "    \n",
    "    # 4. Keep only lemmas that are alphabetic (filter out punctuation, numbers)\n",
    "    lemmas = [token.lemma_ for token in doc if token.is_alpha]\n",
    "    \n",
    "    # 5. Join back to string\n",
    "    return \" \".join(lemmas)\n"
   ]
  },
  {
   "cell_type": "code",
   "execution_count": 26,
   "id": "35500275",
   "metadata": {},
   "outputs": [],
   "source": [
    "df['preprocess_text']=df['text'].apply(preprocess_text)"
   ]
  },
  {
   "cell_type": "markdown",
   "id": "1be2f22b",
   "metadata": {},
   "source": [
    "## Vectorization of the text"
   ]
  },
  {
   "cell_type": "code",
   "execution_count": 39,
   "id": "20e03b43",
   "metadata": {},
   "outputs": [],
   "source": [
    "X=df['preprocess_text']\n",
    "y=df['sentiment']\n",
    "\n",
    "from sklearn.model_selection import train_test_split\n",
    "X_train, X_test, y_train, y_test = train_test_split(X, y, test_size=0.2, random_state=42)"
   ]
  },
  {
   "cell_type": "code",
   "execution_count": 40,
   "id": "237c94bf",
   "metadata": {},
   "outputs": [
    {
     "name": "stdout",
     "output_type": "stream",
     "text": [
      "Shape of the feature matrix X:  (39999, 121)\n",
      "Shape of the target vector Y:  (39999,)\n"
     ]
    }
   ],
   "source": [
    "from sklearn.feature_extraction.text import TfidfVectorizer\n",
    "\n",
    "vectorizer=TfidfVectorizer(\n",
    "    stop_words='english',\n",
    "    lowercase=True, \n",
    "    max_features=10000,\n",
    "    min_df=0.01# remove words that appear in less than 1% of the documents\n",
    ")\n",
    "\n",
    "\n",
    "\n",
    "X_train_tfidf=vectorizer.fit_transform(X_train)\n",
    "X_test_tfidf = vectorizer.transform(X_test)\n",
    "print(\"Shape of the feature matrix X: \",X_train_tfidf.shape)\n",
    "print(\"Shape of the target vector Y: \",y_train.shape)\n"
   ]
  },
  {
   "cell_type": "markdown",
   "id": "87ab5ef4",
   "metadata": {},
   "source": [
    "## Random Forest model"
   ]
  },
  {
   "cell_type": "code",
   "execution_count": 45,
   "id": "f3ccdcea",
   "metadata": {},
   "outputs": [
    {
     "name": "stdout",
     "output_type": "stream",
     "text": [
      "Fitting 5 folds for each of 20 candidates, totalling 100 fits\n",
      "Best Parameters: {'bootstrap': False, 'criterion': 'entropy', 'max_depth': 51, 'min_samples_leaf': 2, 'min_samples_split': 7, 'n_estimators': 153}\n",
      "              precision    recall  f1-score   support\n",
      "\n",
      "    negative       0.90      0.38      0.53      1392\n",
      "     neutral       0.66      0.86      0.75      4295\n",
      "    positive       0.78      0.70      0.74      4313\n",
      "\n",
      "    accuracy                           0.72     10000\n",
      "   macro avg       0.78      0.65      0.67     10000\n",
      "weighted avg       0.75      0.72      0.71     10000\n",
      "\n"
     ]
    }
   ],
   "source": [
    "from sklearn.ensemble import RandomForestClassifier\n",
    "from sklearn.model_selection import RandomizedSearchCV\n",
    "from sklearn.metrics import classification_report\n",
    "from scipy.stats import randint\n",
    "\n",
    "# Define the parameter distribution\n",
    "param_dist = {\n",
    "    'n_estimators': randint(100, 500),\n",
    "    'max_depth': randint(50, 1000),\n",
    "    'min_samples_split': randint(2, 10),\n",
    "    'min_samples_leaf': randint(1, 5),\n",
    "    'criterion': ['gini', 'entropy'],\n",
    "    'bootstrap': [True, False]\n",
    "}\n",
    "\n",
    "# Initialize the classifier\n",
    "rf = RandomForestClassifier(random_state=42)\n",
    "\n",
    "# Setup RandomizedSearchCV\n",
    "random_search = RandomizedSearchCV(\n",
    "    estimator=rf,\n",
    "    param_distributions=param_dist,\n",
    "    n_iter=20,  # Try 20 random combinations\n",
    "    cv=5,\n",
    "    scoring='accuracy',  # Change to f1_macro, roc_auc, etc. if needed\n",
    "    n_jobs=-1,\n",
    "    verbose=2,\n",
    "    random_state=42\n",
    ")\n",
    "\n",
    "# Fit the model\n",
    "random_search.fit(X_train_tfidf, y_train)\n",
    "\n",
    "# Get best model\n",
    "best_rf = random_search.best_estimator_\n",
    "print(\"Best Parameters:\", random_search.best_params_)\n",
    "\n",
    "# Predict and evaluate\n",
    "y_pred = best_rf.predict(X_test_tfidf)\n",
    "print(classification_report(y_test, y_pred))\n"
   ]
  }
 ],
 "metadata": {
  "kernelspec": {
   "display_name": "venv",
   "language": "python",
   "name": "python3"
  },
  "language_info": {
   "codemirror_mode": {
    "name": "ipython",
    "version": 3
   },
   "file_extension": ".py",
   "mimetype": "text/x-python",
   "name": "python",
   "nbconvert_exporter": "python",
   "pygments_lexer": "ipython3",
   "version": "3.11.0"
  }
 },
 "nbformat": 4,
 "nbformat_minor": 5
}
