{
 "cells": [
  {
   "cell_type": "markdown",
   "id": "61328336",
   "metadata": {},
   "source": [
    "## Preprocessing "
   ]
  },
  {
   "cell_type": "code",
   "execution_count": 1,
   "id": "f08a860a",
   "metadata": {},
   "outputs": [
    {
     "name": "stdout",
     "output_type": "stream",
     "text": [
      "C:\\Users\\aj281\\AppData\\Roaming\\nltk_data\\tokenizers\\punkt\n"
     ]
    }
   ],
   "source": [
    "import nltk\n",
    "print(nltk.data.find('tokenizers/punkt'))# this address is used in the prepprocess_text_random_forest.py file in the nltk_data_path variable\n"
   ]
  },
  {
   "cell_type": "code",
   "execution_count": 1,
   "id": "1821f2ac",
   "metadata": {},
   "outputs": [
    {
     "name": "stderr",
     "output_type": "stream",
     "text": [
      "[nltk_data] Downloading package punkt to\n",
      "[nltk_data]     C:\\Users\\aj281\\AppData\\Roaming\\nltk_data...\n",
      "[nltk_data]   Unzipping tokenizers\\punkt.zip.\n",
      "[nltk_data] Downloading package wordnet to\n",
      "[nltk_data]     C:\\Users\\aj281\\AppData\\Roaming\\nltk_data...\n",
      "[nltk_data]   Package wordnet is already up-to-date!\n",
      "100%|██████████| 71/71 [00:35<00:00,  2.00it/s]\n"
     ]
    },
    {
     "data": {
      "text/html": [
       "<div>\n",
       "<style scoped>\n",
       "    .dataframe tbody tr th:only-of-type {\n",
       "        vertical-align: middle;\n",
       "    }\n",
       "\n",
       "    .dataframe tbody tr th {\n",
       "        vertical-align: top;\n",
       "    }\n",
       "\n",
       "    .dataframe thead th {\n",
       "        text-align: right;\n",
       "    }\n",
       "</style>\n",
       "<table border=\"1\" class=\"dataframe\">\n",
       "  <thead>\n",
       "    <tr style=\"text-align: right;\">\n",
       "      <th></th>\n",
       "      <th>date</th>\n",
       "      <th>text</th>\n",
       "      <th>is_retweet</th>\n",
       "      <th>lang</th>\n",
       "      <th>sentiment</th>\n",
       "      <th>preprocess_text</th>\n",
       "    </tr>\n",
       "  </thead>\n",
       "  <tbody>\n",
       "    <tr>\n",
       "      <th>0</th>\n",
       "      <td>2021-04-12 18:56:10</td>\n",
       "      <td>The Why Behind Microsoft’s $19 Billion Nuance ...</td>\n",
       "      <td>False</td>\n",
       "      <td>en</td>\n",
       "      <td>neutral</td>\n",
       "      <td>The Why Behind Microsoft s Billion Nuance Buy ...</td>\n",
       "    </tr>\n",
       "    <tr>\n",
       "      <th>1</th>\n",
       "      <td>2021-04-12 18:55:48</td>\n",
       "      <td>Make a change and an impart on yourself and ot...</td>\n",
       "      <td>False</td>\n",
       "      <td>en</td>\n",
       "      <td>neutral</td>\n",
       "      <td>Make a change and an impart on yourself and ot...</td>\n",
       "    </tr>\n",
       "    <tr>\n",
       "      <th>2</th>\n",
       "      <td>2021-04-12 18:55:27</td>\n",
       "      <td>What are the biggest shitcoins? crypto btc bnb...</td>\n",
       "      <td>False</td>\n",
       "      <td>en</td>\n",
       "      <td>neutral</td>\n",
       "      <td>What are the biggest shitcoins crypto btc bnb ...</td>\n",
       "    </tr>\n",
       "    <tr>\n",
       "      <th>3</th>\n",
       "      <td>2021-04-12 18:55:22</td>\n",
       "      <td>crypto bitcoin cryptocurrency blockchain btc e...</td>\n",
       "      <td>False</td>\n",
       "      <td>en</td>\n",
       "      <td>neutral</td>\n",
       "      <td>crypto bitcoin cryptocurrency blockchain btc e...</td>\n",
       "    </tr>\n",
       "    <tr>\n",
       "      <th>4</th>\n",
       "      <td>2021-04-12 18:55:01</td>\n",
       "      <td>[1D] Bitcoin market is weakly trending up curr...</td>\n",
       "      <td>False</td>\n",
       "      <td>en</td>\n",
       "      <td>negative</td>\n",
       "      <td>Bitcoin market is weakly trending up current m...</td>\n",
       "    </tr>\n",
       "  </tbody>\n",
       "</table>\n",
       "</div>"
      ],
      "text/plain": [
       "                  date                                               text  \\\n",
       "0  2021-04-12 18:56:10  The Why Behind Microsoft’s $19 Billion Nuance ...   \n",
       "1  2021-04-12 18:55:48  Make a change and an impart on yourself and ot...   \n",
       "2  2021-04-12 18:55:27  What are the biggest shitcoins? crypto btc bnb...   \n",
       "3  2021-04-12 18:55:22  crypto bitcoin cryptocurrency blockchain btc e...   \n",
       "4  2021-04-12 18:55:01  [1D] Bitcoin market is weakly trending up curr...   \n",
       "\n",
       "   is_retweet lang sentiment  \\\n",
       "0       False   en   neutral   \n",
       "1       False   en   neutral   \n",
       "2       False   en   neutral   \n",
       "3       False   en   neutral   \n",
       "4       False   en  negative   \n",
       "\n",
       "                                     preprocess_text  \n",
       "0  The Why Behind Microsoft s Billion Nuance Buy ...  \n",
       "1  Make a change and an impart on yourself and ot...  \n",
       "2  What are the biggest shitcoins crypto btc bnb ...  \n",
       "3  crypto bitcoin cryptocurrency blockchain btc e...  \n",
       "4  Bitcoin market is weakly trending up current m...  "
      ]
     },
     "execution_count": 1,
     "metadata": {},
     "output_type": "execute_result"
    }
   ],
   "source": [
    "# Step 1: Import the function from your .py file\n",
    "from preprocess_text_random_forest import run_preprocessing\n",
    "\n",
    "# Step 2: Call the function — it will return the processed DataFrame\n",
    "df = run_preprocessing()\n",
    "\n",
    "# Step 3: Now you can use df for your Random Forest or any further steps\n",
    "df.head()\n"
   ]
  },
  {
   "cell_type": "markdown",
   "id": "1be2f22b",
   "metadata": {},
   "source": [
    "## Vectorization of the text"
   ]
  },
  {
   "cell_type": "code",
   "execution_count": 3,
   "id": "20e03b43",
   "metadata": {},
   "outputs": [],
   "source": [
    "X=df['preprocess_text']\n",
    "y=df['sentiment']\n",
    "\n",
    "n=len(X)\n",
    "\n",
    "split_index=int(n*0.8)\n",
    "# Split the data into training and testing sets\n",
    "X_train= X[:split_index]\n",
    "X_test= X[split_index:]\n",
    "y_train= y[:split_index]\n",
    "y_test= y[split_index:]\n",
    "\n",
    "#sklearn train_test_split is not used because it splits randomly and we want to keep the order of the data for the time series modeling"
   ]
  },
  {
   "cell_type": "code",
   "execution_count": 4,
   "id": "237c94bf",
   "metadata": {},
   "outputs": [
    {
     "name": "stdout",
     "output_type": "stream",
     "text": [
      "Shape of the feature matrix X:  (565348, 171)\n",
      "Shape of the target vector Y:  (565348,)\n"
     ]
    }
   ],
   "source": [
    "from sklearn.feature_extraction.text import TfidfVectorizer\n",
    "\n",
    "vectorizer=TfidfVectorizer(\n",
    "    stop_words='english',\n",
    "    lowercase=True, \n",
    "    max_features=1000,\n",
    "    min_df=0.01,\n",
    "    max_df=0.9,\n",
    ")\n",
    "\n",
    "\n",
    "\n",
    "X_train_tfidf=vectorizer.fit_transform(X_train)\n",
    "X_test_tfidf = vectorizer.transform(X_test)\n",
    "print(\"Shape of the feature matrix X: \",X_train_tfidf.shape)\n",
    "print(\"Shape of the target vector Y: \",y_train.shape)\n"
   ]
  },
  {
   "cell_type": "markdown",
   "id": "87ab5ef4",
   "metadata": {},
   "source": [
    "## Random Forest model"
   ]
  },
  {
   "cell_type": "code",
   "execution_count": 9,
   "id": "f3ccdcea",
   "metadata": {},
   "outputs": [
    {
     "name": "stdout",
     "output_type": "stream",
     "text": [
      "n_iterations: 2\n",
      "n_required_iterations: 2\n",
      "n_possible_iterations: 2\n",
      "min_resources_: 30\n",
      "max_resources_: 150\n",
      "aggressive_elimination: False\n",
      "factor: 3\n",
      "----------\n",
      "iter: 0\n",
      "n_candidates: 5\n",
      "n_resources: 30\n",
      "Fitting 2 folds for each of 5 candidates, totalling 10 fits\n",
      "----------\n",
      "iter: 1\n",
      "n_candidates: 2\n",
      "n_resources: 90\n",
      "Fitting 2 folds for each of 2 candidates, totalling 4 fits\n",
      "Best Parameters: {'bootstrap': True, 'criterion': 'gini', 'max_depth': 48, 'min_samples_leaf': 1, 'min_samples_split': 4, 'n_estimators': 90}\n",
      "              precision    recall  f1-score   support\n",
      "\n",
      "    negative       0.45      0.41      0.43     26243\n",
      "     neutral       0.57      0.85      0.68     46339\n",
      "    positive       0.90      0.64      0.74     68755\n",
      "\n",
      "    accuracy                           0.66    141337\n",
      "   macro avg       0.64      0.63      0.62    141337\n",
      "weighted avg       0.71      0.66      0.67    141337\n",
      "\n"
     ]
    }
   ],
   "source": [
    "from sklearn.experimental import enable_halving_search_cv\n",
    "from sklearn.model_selection import HalvingRandomSearchCV\n",
    "from sklearn.ensemble import RandomForestClassifier\n",
    "from sklearn.metrics import classification_report\n",
    "from scipy.stats import randint\n",
    "import time\n",
    "\n",
    "# ✅ Step 1: Define the parameter distribution (no n_estimators here!)\n",
    "param_dist = {\n",
    "    'max_depth': randint(10, 50),\n",
    "    'min_samples_split': randint(2, 6),\n",
    "    'min_samples_leaf': randint(1, 4),\n",
    "    'criterion': ['gini'],\n",
    "    'bootstrap': [True]\n",
    "}\n",
    "\n",
    "# ✅ Step 2: Initialize classifier with n_estimators (will be controlled by halving)\n",
    "rf = RandomForestClassifier(random_state=42, n_jobs=1, class_weight='balanced') # since there is a class imbalance in the dataset, we will use class_weight='balanced' to balance the classes\n",
    "\n",
    "# ✅ Step 3: Halving Random Search CV\n",
    "halving_search = HalvingRandomSearchCV(\n",
    "    estimator=rf,\n",
    "    param_distributions=param_dist,\n",
    "    factor=3,\n",
    "    resource='n_estimators',   # We will vary this automatically\n",
    "    max_resources=150,         # Final model will train with 150 trees\n",
    "    min_resources=30,          # Start with 30 trees\n",
    "    cv=2,\n",
    "    scoring='f1_macro',        # Use f1_macro for imbalanced classes\n",
    "    random_state=42,\n",
    "    n_jobs=2,\n",
    "    verbose=2\n",
    ")\n",
    "\n",
    "halving_search.fit(X_train_tfidf, y_train)\n",
    "best_model = halving_search.best_estimator_\n",
    "print(\"Best Parameters:\", halving_search.best_params_)\n",
    "y_pred = best_model.predict(X_test_tfidf)\n",
    "print(classification_report(y_test, y_pred))\n"
   ]
  },
  {
   "cell_type": "code",
   "execution_count": 10,
   "id": "7a5ee8e9",
   "metadata": {},
   "outputs": [
    {
     "name": "stdout",
     "output_type": "stream",
     "text": [
      "Confusion Matrix:\n",
      "[[10790 11848  3605]\n",
      " [ 5656 39164  1519]\n",
      " [ 7672 17328 43755]]\n"
     ]
    },
    {
     "data": {
      "image/png": "[encoded data removed]",
      "text/plain": [
       "<Figure size 640x480 with 2 Axes>"
      ]
     },
     "metadata": {},
     "output_type": "display_data"
    }
   ],
   "source": [
    "from sklearn.metrics import confusion_matrix, ConfusionMatrixDisplay\n",
    "import matplotlib.pyplot as plt\n",
    "\n",
    "cm = confusion_matrix(y_test, y_pred)\n",
    "print(\"Confusion Matrix:\")\n",
    "print(cm)\n",
    "\n",
    "disp = ConfusionMatrixDisplay(confusion_matrix=cm, display_labels=[0, 1, 2])\n",
    "disp.plot(cmap='Blues')\n",
    "plt.title(\"Confusion Matrix\")\n",
    "plt.show()\n"
   ]
  }
 ],
 "metadata": {
  "kernelspec": {
   "display_name": "venv",
   "language": "python",
   "name": "python3"
  },
  "language_info": {
   "codemirror_mode": {
    "name": "ipython",
    "version": 3
   },
   "file_extension": ".py",
   "mimetype": "text/x-python",
   "name": "python",
   "nbconvert_exporter": "python",
   "pygments_lexer": "ipython3",
   "version": "3.11.0"
  }
 },
 "nbformat": 4,
 "nbformat_minor": 5
}
